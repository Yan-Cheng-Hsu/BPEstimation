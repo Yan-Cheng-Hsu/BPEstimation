{
 "cells": [
  {
   "cell_type": "code",
   "execution_count": 1,
   "metadata": {},
   "outputs": [
    {
     "name": "stdout",
     "output_type": "stream",
     "text": [
      "Requirement already satisfied: heartpy in c:\\anaconda3\\envs\\jupytertest\\lib\\site-packages (1.2.6)\n",
      "Requirement already satisfied: matplotlib; python_version >= \"3.6\" in c:\\anaconda3\\envs\\jupytertest\\lib\\site-packages (from heartpy) (3.1.1)\n",
      "Requirement already satisfied: scipy; python_version >= \"3.5\" in c:\\anaconda3\\envs\\jupytertest\\lib\\site-packages (from heartpy) (1.4.1)\n",
      "Requirement already satisfied: numpy; python_version >= \"3.5\" in c:\\anaconda3\\envs\\jupytertest\\lib\\site-packages (from heartpy) (1.18.1)\n",
      "Requirement already satisfied: cycler>=0.10 in c:\\anaconda3\\envs\\jupytertest\\lib\\site-packages (from matplotlib; python_version >= \"3.6\"->heartpy) (0.10.0)\n",
      "Requirement already satisfied: kiwisolver>=1.0.1 in c:\\anaconda3\\envs\\jupytertest\\lib\\site-packages (from matplotlib; python_version >= \"3.6\"->heartpy) (1.1.0)\n",
      "Requirement already satisfied: pyparsing!=2.0.4,!=2.1.2,!=2.1.6,>=2.0.1 in c:\\anaconda3\\envs\\jupytertest\\lib\\site-packages (from matplotlib; python_version >= \"3.6\"->heartpy) (2.4.6)\n",
      "Requirement already satisfied: python-dateutil>=2.1 in c:\\anaconda3\\envs\\jupytertest\\lib\\site-packages (from matplotlib; python_version >= \"3.6\"->heartpy) (2.8.1)\n",
      "Requirement already satisfied: six in c:\\anaconda3\\envs\\jupytertest\\lib\\site-packages (from cycler>=0.10->matplotlib; python_version >= \"3.6\"->heartpy) (1.14.0)\n",
      "Requirement already satisfied: setuptools in c:\\anaconda3\\envs\\jupytertest\\lib\\site-packages (from kiwisolver>=1.0.1->matplotlib; python_version >= \"3.6\"->heartpy) (45.2.0.post20200210)\n"
     ]
    }
   ],
   "source": [
    "import scipy.io as sio\n",
    "import numpy as np\n",
    "import pandas as pd\n",
    "import matplotlib.pyplot as plt\n",
    "import statistics \n",
    "import sys \n",
    "!{sys.executable} -m pip install heartpy\n",
    "import heartpy as hp\n",
    "from sklearn import preprocessing"
   ]
  },
  {
   "cell_type": "code",
   "execution_count": 2,
   "metadata": {},
   "outputs": [],
   "source": [
    "RawData1 = sio.loadmat( 'C:/4th_2endSemester/MLBRLab/BPEstimation/data/Part_1.mat' )"
   ]
  },
  {
   "cell_type": "code",
   "execution_count": 3,
   "metadata": {},
   "outputs": [],
   "source": [
    "RearrangedData = { 'SamplingRate':125.0 , 'ppg' : [] , 'abp' : [] }"
   ]
  },
  {
   "cell_type": "code",
   "execution_count": 4,
   "metadata": {},
   "outputs": [],
   "source": [
    "def GetPPG():\n",
    "    for i in range(RawData1['Part_1'][0].shape[0]):\n",
    "        #Low pass filter\n",
    "        N = len(RawData1['Part_1'][0][i][0])\n",
    "        t = np.linspace( 0 , N , N )\n",
    "        F = t*RearrangedData['SamplingRate']/N - RearrangedData['SamplingRate']/2\n",
    "        yf = np.fft.fft( RawData1['Part_1'][0][i][0] )\n",
    "        yf = np.fft.fftshift( yf )\n",
    "        for i in range( N ):\n",
    "            if ( F[i] > 10 ) | ( F[i] < -10 ):\n",
    "                yf[i] = 0\n",
    "        iyf = np.abs( np.fft.ifft( yf ) )\n",
    "\n",
    "        #Nomarlization\n",
    "        iyf = ( iyf - np.min(iyf) ) / ( max(iyf) - min(iyf) )\n",
    "        RearrangedData['ppg'].append( iyf )\n",
    "\n",
    "    #RearrangedData['ppg'] = np.array( RearrangedData['ppg'] )\n",
    "    return\n",
    "def GetabpRawData():\n",
    "    for i in range( RawData1['Part_1'][0].shape[0] ):\n",
    "        #Low pass filter\n",
    "        N = len(RawData1['Part_1'][0][i][0])\n",
    "        t = np.linspace( 0 , N , N )\n",
    "        F = t*RearrangedData['SamplingRate']/N - RearrangedData['SamplingRate']/2\n",
    "        yf = np.fft.fft( RawData1['Part_1'][0][i][0] )\n",
    "        yf = np.fft.fftshift( yf )\n",
    "        for i in range( N ):\n",
    "            if ( F[i] > 10 ) | ( F[i] < -10 ):\n",
    "                yf[i] = 0\n",
    "        iyf = np.abs( np.fft.ifft( yf ) )\n",
    "        RearrangedData['abp'].append( iyf )\n",
    "    #RearrangedData['abp'] = np.array( RearrangedData['abp'] )\n",
    "    return\n",
    "\n",
    "GetPPG()\n",
    "GetabpRawData()"
   ]
  },
  {
   "cell_type": "code",
   "execution_count": 5,
   "metadata": {},
   "outputs": [],
   "source": [
    "RearrangedData['1stdiffppg'] = []\n",
    "RearrangedData['2nddiffppg'] = []\n"
   ]
  },
  {
   "cell_type": "code",
   "execution_count": 6,
   "metadata": {},
   "outputs": [
    {
     "ename": "AttributeError",
     "evalue": "'list' object has no attribute 'shape'",
     "output_type": "error",
     "traceback": [
      "\u001b[1;31m---------------------------------------------------------------------------\u001b[0m",
      "\u001b[1;31mAttributeError\u001b[0m                            Traceback (most recent call last)",
      "\u001b[1;32m<ipython-input-6-e709b813ade7>\u001b[0m in \u001b[0;36m<module>\u001b[1;34m\u001b[0m\n\u001b[1;32m----> 1\u001b[1;33m \u001b[0mprint\u001b[0m\u001b[1;33m(\u001b[0m \u001b[0mRearrangedData\u001b[0m\u001b[1;33m[\u001b[0m\u001b[1;34m'ppg'\u001b[0m\u001b[1;33m]\u001b[0m\u001b[1;33m.\u001b[0m\u001b[0mshape\u001b[0m\u001b[1;33m[\u001b[0m\u001b[1;36m0\u001b[0m\u001b[1;33m]\u001b[0m \u001b[1;33m)\u001b[0m\u001b[1;33m\u001b[0m\u001b[1;33m\u001b[0m\u001b[0m\n\u001b[0m\u001b[0;32m      2\u001b[0m \u001b[0mprint\u001b[0m\u001b[1;33m(\u001b[0m \u001b[0mRearrangedData\u001b[0m\u001b[1;33m[\u001b[0m\u001b[1;34m'abp'\u001b[0m\u001b[1;33m]\u001b[0m\u001b[1;33m.\u001b[0m\u001b[0mshape\u001b[0m\u001b[1;33m[\u001b[0m\u001b[1;36m0\u001b[0m\u001b[1;33m]\u001b[0m \u001b[1;33m)\u001b[0m\u001b[1;33m\u001b[0m\u001b[1;33m\u001b[0m\u001b[0m\n",
      "\u001b[1;31mAttributeError\u001b[0m: 'list' object has no attribute 'shape'"
     ]
    }
   ],
   "source": [
    "print( len(RearrangedData['ppg']) )\n",
    "print( len(RearrangedData['abp']) )"
   ]
  },
  {
   "cell_type": "code",
   "execution_count": 7,
   "metadata": {},
   "outputs": [],
   "source": [
    "def Get_1stDiffofppg():\n",
    "    for i in range( len(RearrangedData['ppg']) ):\n",
    "        temp = []\n",
    "        for j in range( 1 , len(RearrangedData['ppg'][i]) , 1 ):\n",
    "            temp.append( RearrangedData['ppg'][i][j] - RearrangedData['ppg'][i][j-1] )\n",
    "        temp = np.array( temp )\n",
    "        RearrangedData['1stdiffppg'].append( temp )\n",
    "    #RearrangedData['1stdiffppg'] = np.array( RearrangedData['1stdiffppg'] )\n",
    "    return\n",
    "def Get_2ndDiffofppg():\n",
    "    for i in range( len(RearrangedData['1stdiffppg']) ):\n",
    "        temp = []\n",
    "        for j in range( 1 , len(RearrangedData['1stdiffppg'][i]) , 1 ):\n",
    "            temp.append( RearrangedData['1stdiffppg'][i][j] - RearrangedData['1stdiffppg'][i][j-1] )\n",
    "        temp = np.array( temp )\n",
    "        RearrangedData['2nddiffppg'].append( temp )\n",
    "    #RearrangedData['2nddiffppg'] = np.array( RearrangedData['2nddiffppg'] )\n",
    "    return"
   ]
  },
  {
   "cell_type": "code",
   "execution_count": 8,
   "metadata": {},
   "outputs": [
    {
     "ename": "AttributeError",
     "evalue": "'list' object has no attribute 'shape'",
     "output_type": "error",
     "traceback": [
      "\u001b[1;31m---------------------------------------------------------------------------\u001b[0m",
      "\u001b[1;31mAttributeError\u001b[0m                            Traceback (most recent call last)",
      "\u001b[1;32m<ipython-input-8-470acf47b291>\u001b[0m in \u001b[0;36m<module>\u001b[1;34m\u001b[0m\n\u001b[1;32m----> 1\u001b[1;33m \u001b[0mGet_1stDiffofppg\u001b[0m\u001b[1;33m(\u001b[0m\u001b[1;33m)\u001b[0m\u001b[1;33m\u001b[0m\u001b[1;33m\u001b[0m\u001b[0m\n\u001b[0m\u001b[0;32m      2\u001b[0m \u001b[0mGet_2ndDiffofppg\u001b[0m\u001b[1;33m(\u001b[0m\u001b[1;33m)\u001b[0m\u001b[1;33m\u001b[0m\u001b[1;33m\u001b[0m\u001b[0m\n",
      "\u001b[1;32m<ipython-input-7-8a2e1f516be9>\u001b[0m in \u001b[0;36mGet_1stDiffofppg\u001b[1;34m()\u001b[0m\n\u001b[0;32m      1\u001b[0m \u001b[1;32mdef\u001b[0m \u001b[0mGet_1stDiffofppg\u001b[0m\u001b[1;33m(\u001b[0m\u001b[1;33m)\u001b[0m\u001b[1;33m:\u001b[0m\u001b[1;33m\u001b[0m\u001b[1;33m\u001b[0m\u001b[0m\n\u001b[1;32m----> 2\u001b[1;33m     \u001b[1;32mfor\u001b[0m \u001b[0mi\u001b[0m \u001b[1;32min\u001b[0m \u001b[0mrange\u001b[0m\u001b[1;33m(\u001b[0m \u001b[0mRearrangedData\u001b[0m\u001b[1;33m[\u001b[0m\u001b[1;34m'ppg'\u001b[0m\u001b[1;33m]\u001b[0m\u001b[1;33m.\u001b[0m\u001b[0mshape\u001b[0m\u001b[1;33m[\u001b[0m\u001b[1;36m0\u001b[0m\u001b[1;33m]\u001b[0m \u001b[1;33m)\u001b[0m\u001b[1;33m:\u001b[0m\u001b[1;33m\u001b[0m\u001b[1;33m\u001b[0m\u001b[0m\n\u001b[0m\u001b[0;32m      3\u001b[0m         \u001b[0mtemp\u001b[0m \u001b[1;33m=\u001b[0m \u001b[1;33m[\u001b[0m\u001b[1;33m]\u001b[0m\u001b[1;33m\u001b[0m\u001b[1;33m\u001b[0m\u001b[0m\n\u001b[0;32m      4\u001b[0m         \u001b[1;32mfor\u001b[0m \u001b[0mj\u001b[0m \u001b[1;32min\u001b[0m \u001b[0mrange\u001b[0m\u001b[1;33m(\u001b[0m \u001b[1;36m1\u001b[0m \u001b[1;33m,\u001b[0m \u001b[0mRearrangedData\u001b[0m\u001b[1;33m[\u001b[0m\u001b[1;34m'ppg'\u001b[0m\u001b[1;33m]\u001b[0m\u001b[1;33m[\u001b[0m\u001b[0mi\u001b[0m\u001b[1;33m]\u001b[0m\u001b[1;33m.\u001b[0m\u001b[0mshape\u001b[0m\u001b[1;33m[\u001b[0m\u001b[1;36m0\u001b[0m\u001b[1;33m]\u001b[0m \u001b[1;33m,\u001b[0m \u001b[1;36m1\u001b[0m \u001b[1;33m)\u001b[0m\u001b[1;33m:\u001b[0m\u001b[1;33m\u001b[0m\u001b[1;33m\u001b[0m\u001b[0m\n\u001b[0;32m      5\u001b[0m             \u001b[0mtemp\u001b[0m\u001b[1;33m.\u001b[0m\u001b[0mappend\u001b[0m\u001b[1;33m(\u001b[0m \u001b[0mRearrangedData\u001b[0m\u001b[1;33m[\u001b[0m\u001b[1;34m'ppg'\u001b[0m\u001b[1;33m]\u001b[0m\u001b[1;33m[\u001b[0m\u001b[0mi\u001b[0m\u001b[1;33m]\u001b[0m\u001b[1;33m[\u001b[0m\u001b[0mj\u001b[0m\u001b[1;33m]\u001b[0m \u001b[1;33m-\u001b[0m \u001b[0mRearrangedData\u001b[0m\u001b[1;33m[\u001b[0m\u001b[1;34m'ppg'\u001b[0m\u001b[1;33m]\u001b[0m\u001b[1;33m[\u001b[0m\u001b[0mi\u001b[0m\u001b[1;33m]\u001b[0m\u001b[1;33m[\u001b[0m\u001b[0mj\u001b[0m\u001b[1;33m-\u001b[0m\u001b[1;36m1\u001b[0m\u001b[1;33m]\u001b[0m \u001b[1;33m)\u001b[0m\u001b[1;33m\u001b[0m\u001b[1;33m\u001b[0m\u001b[0m\n",
      "\u001b[1;31mAttributeError\u001b[0m: 'list' object has no attribute 'shape'"
     ]
    }
   ],
   "source": [
    "Get_1stDiffofppg()\n",
    "Get_2ndDiffofppg()"
   ]
  },
  {
   "cell_type": "code",
   "execution_count": 9,
   "metadata": {},
   "outputs": [
    {
     "ename": "AttributeError",
     "evalue": "'list' object has no attribute 'shape'",
     "output_type": "error",
     "traceback": [
      "\u001b[1;31m---------------------------------------------------------------------------\u001b[0m",
      "\u001b[1;31mAttributeError\u001b[0m                            Traceback (most recent call last)",
      "\u001b[1;32m<ipython-input-9-350bfd13ec41>\u001b[0m in \u001b[0;36m<module>\u001b[1;34m\u001b[0m\n\u001b[1;32m----> 1\u001b[1;33m \u001b[0mprint\u001b[0m\u001b[1;33m(\u001b[0m \u001b[0mRearrangedData\u001b[0m\u001b[1;33m[\u001b[0m\u001b[1;34m'2nddiffppg'\u001b[0m\u001b[1;33m]\u001b[0m\u001b[1;33m.\u001b[0m\u001b[0mshape\u001b[0m\u001b[1;33m[\u001b[0m\u001b[1;36m0\u001b[0m\u001b[1;33m]\u001b[0m \u001b[1;33m)\u001b[0m\u001b[1;33m\u001b[0m\u001b[1;33m\u001b[0m\u001b[0m\n\u001b[0m",
      "\u001b[1;31mAttributeError\u001b[0m: 'list' object has no attribute 'shape'"
     ]
    }
   ],
   "source": [
    "print( len(RearrangedData['2nddiffppg']) )"
   ]
  },
  {
   "cell_type": "code",
   "execution_count": 17,
   "metadata": {},
   "outputs": [],
   "source": [
    "AttributeTable = {}\n",
    "AttributeTable['systolicIndex'] = []\n",
    "AttributeTable['systolicValue'] = []\n",
    "def get_peakIndex_and_peakValue_ofppg( startIndex , endIndex ):\n",
    "    for i in range( startIndex , endIndex , 1 ):\n",
    "        #get peak index of ppg\n",
    "        temp = []\n",
    "        working_data, measures = hp.process(RearrangedData['ppg'][i], 125.0)\n",
    "        AttributeTable['systolicIndex'].append( np.setdiff1d( working_data['peaklist'] , working_data['removed_beats'] ) )\n",
    "        \n",
    "        #get peak value of ppg\n",
    "        #temp2 = []\n",
    "        #temp2 = np.array( temp2 )\n",
    "        #for j in range( len(temp) ):\n",
    "            #temp2 = np.append( temp2 , RearrangedData['ppg'][i][temp[j]] ) \n",
    "        #AttributeTable['systolicValue'].append(temp2)\n",
    "    #AttributeTable['systolicIndex'] = np.array(AttributeTable['systolicIndex'])\n",
    "    #AttributeTable['systolicValue'] = np.array(AttributeTable['systolicValue'])\n",
    "    return\n",
    "get_peakIndex_and_peakValue_ofppg(0, 1000)"
   ]
  },
  {
   "cell_type": "code",
   "execution_count": null,
   "metadata": {},
   "outputs": [],
   "source": []
  }
 ],
 "metadata": {
  "kernelspec": {
   "display_name": "Python 3.7.6 64-bit ('JupyterTest': conda)",
   "language": "python",
   "name": "python37664bitjupytertestconda215f1a90ea424435932e2c99759fb066"
  },
  "language_info": {
   "codemirror_mode": {
    "name": "ipython",
    "version": 3
   },
   "file_extension": ".py",
   "mimetype": "text/x-python",
   "name": "python",
   "nbconvert_exporter": "python",
   "pygments_lexer": "ipython3",
   "version": "3.7.6"
  }
 },
 "nbformat": 4,
 "nbformat_minor": 4
}
