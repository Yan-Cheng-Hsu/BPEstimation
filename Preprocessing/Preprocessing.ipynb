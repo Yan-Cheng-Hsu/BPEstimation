{
 "cells": [
  {
   "cell_type": "markdown",
   "metadata": {},
   "source": [
    "1. Since 'Part_1.mat' is older version of .mat file (older than version 7.3), it's possible and feasible to use scipy to load file \n",
    "2. 'Part_2.mat' is somehow corrupted and there is no way we can open it through python.\n",
    "3. 'Part_3.mat' was saved as later version (later than version 7.3), so if we want to load the file, we have to use h5py package\n",
    "4. In 'Part_1.mat' file, there is a cell array whose dimension is 1 x 3000 cells. Each cell contains 3 x N of a patient(N is number of samples) including PPG(1st row), ECG(2nd row), ABP(3rd row)."
   ]
  },
  {
   "cell_type": "code",
   "execution_count": 1,
   "metadata": {},
   "outputs": [],
   "source": [
    "import scipy.io as sio\n",
    "Data1 = sio.loadmat( 'C:/4th_2endSemester/MLBRLab/BPEstimation/data/Preprocessed_Part_1.mat' )# RawData1 is a dictionary whose key is 'Part_1'\n",
    "Data3 = sio.loadmat( 'C:/4th_2endSemester/MLBRLab/BPEstimation/data/Preprocessed_Part_3.mat' )"
   ]
  },
  {
   "cell_type": "code",
   "execution_count": 2,
   "metadata": {},
   "outputs": [
    {
     "name": "stdout",
     "output_type": "stream",
     "text": [
      "3000\n",
      "3000\n"
     ]
    }
   ],
   "source": [
    "print( len(Data1['preprocessed_Part_1'][0]) )\n",
    "print( len(Data3['preprocessed_Part_3'][0]) )"
   ]
  },
  {
   "cell_type": "code",
   "execution_count": 3,
   "metadata": {},
   "outputs": [],
   "source": [
    "#Declaration of all variable\n",
    "RearrangedData = { 'ppg':[], 'ecg':[], 'abp':[] }#Reaaranged Data1 and Data3"
   ]
  },
  {
   "cell_type": "code",
   "execution_count": 4,
   "metadata": {},
   "outputs": [],
   "source": [
    "import numpy as np \n",
    "import pandas as pd\n",
    "import matplotlib.pyplot as plt"
   ]
  },
  {
   "cell_type": "code",
   "execution_count": 5,
   "metadata": {},
   "outputs": [],
   "source": [
    "#==============PREPROCESSING START FROM HERE \n",
    "\n",
    "#Data Rearrange\n",
    "\n",
    "TempList = ['ppg', 'ecg', 'abp']\n",
    "for i in range( len(Data1['preprocessed_Part_1'][0]) ):\n",
    "    for j in range( len(Data1['preprocessed_Part_1'][0][0]) ):\n",
    "        RearrangedData[TempList[j]].append( Data1['preprocessed_Part_1'][0][i][j] )\n",
    "for i in range( len(Data3['preprocessed_Part_3'][0]) ):\n",
    "    for j in range( len(Data3['preprocessed_Part_3'][0][0]) ):\n",
    "        RearrangedData[TempList[j]].append( Data3['preprocessed_Part_3'][0][i][j] )\n"
   ]
  },
  {
   "cell_type": "code",
   "execution_count": 6,
   "metadata": {
    "scrolled": true
   },
   "outputs": [
    {
     "name": "stdout",
     "output_type": "stream",
     "text": [
      "6000\n",
      "6000\n",
      "6000\n"
     ]
    }
   ],
   "source": [
    "for k in range(3):\n",
    "    print( len(RearrangedData[TempList[k]]) )"
   ]
  },
  {
   "cell_type": "code",
   "execution_count": 7,
   "metadata": {},
   "outputs": [],
   "source": [
    "#Data Smoothing\n"
   ]
  },
  {
   "cell_type": "code",
   "execution_count": 8,
   "metadata": {},
   "outputs": [
    {
     "data": {
      "image/png": "[encoded data removed]",
      "text/plain": [
       "<Figure size 432x288 with 1 Axes>"
      ]
     },
     "metadata": {
      "needs_background": "light"
     },
     "output_type": "display_data"
    }
   ],
   "source": [
    "NumofSamples = 10000\n",
    "t = np.arange( 0., 100 , 1. )\n",
    "#plt.plot( t, Data1['preprocessed_Part_1'][0][0][0][0:249], 'r--', t, Data1['preprocessed_Part_1'][0][0][1][0:249], 'bs', t, Data1['preprocessed_Part_1'][0][0][2][0:249], 'g^' )\n",
    "plt.plot( t, RearrangedData['ppg'][0][10450:10550], 'r--', t, RearrangedData['ecg'][0][10450:10550], 'b')\n",
    "plt.show()"
   ]
  },
  {
   "cell_type": "code",
   "execution_count": null,
   "metadata": {},
   "outputs": [],
   "source": []
  }
 ],
 "metadata": {
  "kernelspec": {
   "display_name": "Python 3.7.6 64-bit ('JupyterTest': conda)",
   "language": "python",
   "name": "python37664bitjupytertestconda215f1a90ea424435932e2c99759fb066"
  },
  "language_info": {
   "codemirror_mode": {
    "name": "ipython",
    "version": 3
   },
   "file_extension": ".py",
   "mimetype": "text/x-python",
   "name": "python",
   "nbconvert_exporter": "python",
   "pygments_lexer": "ipython3",
   "version": "3.7.6"
  }
 },
 "nbformat": 4,
 "nbformat_minor": 4
}
