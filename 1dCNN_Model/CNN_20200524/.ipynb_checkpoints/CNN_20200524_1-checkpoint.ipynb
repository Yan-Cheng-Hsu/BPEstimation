{
 "cells": [
  {
   "cell_type": "code",
   "execution_count": 46,
   "metadata": {},
   "outputs": [],
   "source": [
    "import numpy as np\n",
    "import matplotlib.pyplot as plt\n",
    "from keras.models import Model , Sequential\n",
    "from keras.layers import Input, LSTM , Bidirectional , Dropout , Activation , Dense , Add , GRU\n",
    "from keras.layers import Conv1D , MaxPooling1D , Flatten , AveragePooling1D , concatenate , BatchNormalization\n",
    "from keras.optimizers import Adam\n",
    "from keras import backend as K\n",
    "from keras.utils import multi_gpu_model\n",
    "import os\n",
    "os.environ[\"CUDA_VISIBLE_DEVICES\"] = ' 0 '"
   ]
  },
  {
   "cell_type": "code",
   "execution_count": 2,
   "metadata": {},
   "outputs": [],
   "source": [
    "def rmse_loss (y_true, y_pred):\n",
    "    return K.sqrt(K.mean(K.square(y_true - y_pred)))"
   ]
  },
  {
   "cell_type": "code",
   "execution_count": 3,
   "metadata": {},
   "outputs": [
    {
     "name": "stdout",
     "output_type": "stream",
     "text": [
      "loading data....\n",
      "loading data finished.\n"
     ]
    }
   ],
   "source": [
    "print( 'loading data....' )\n",
    "ppg_part1 = np.load( '/data1/Yan-Cheng-Hsu/ppgData/dataperC/ppg_part1.npy' , allow_pickle = True )\n",
    "ppg_part2 = np.load( '/data1/Yan-Cheng-Hsu/ppgData/dataperC/ppg_part2.npy' , allow_pickle = True )\n",
    "ppg_part3 = np.load( '/data1/Yan-Cheng-Hsu/ppgData/dataperC/ppg_part3.npy' , allow_pickle = True )\n",
    "sbp = np.load( '/data1/Yan-Cheng-Hsu/ppgData/dataperC/sbp.npy' , allow_pickle = True )\n",
    "dbp = np.load( '/data1/Yan-Cheng-Hsu/ppgData/dataperC/dbp.npy' , allow_pickle = True )\n",
    "print( 'loading data finished.' )"
   ]
  },
  {
   "cell_type": "code",
   "execution_count": 13,
   "metadata": {},
   "outputs": [
    {
     "name": "stdout",
     "output_type": "stream",
     "text": [
      "data preprocessing......\n"
     ]
    }
   ],
   "source": [
    "print('data preprocessing......')\n",
    "ppg_min = 100\n",
    "ppg_max = -100\n",
    "\n",
    "for x in range( len(ppg_part1) ):\n",
    "    for i in range( len(ppg_part1[x]) ):\n",
    "        temp_min = np.min( ppg_part1[x][i] )\n",
    "        temp_max = np.max( ppg_part1[x][i] )\n",
    "        if temp_min < ppg_min:\n",
    "            ppg_min = temp_min\n",
    "        if temp_max > ppg_max:\n",
    "            ppg_max = temp_max\n",
    "for x in range( len(ppg_part2) ):\n",
    "    for i in range( len(ppg_part2[x]) ):\n",
    "        temp_min = np.min( ppg_part2[x][i] )\n",
    "        temp_max = np.max( ppg_part2[x][i] )\n",
    "        if temp_min < ppg_min:\n",
    "            ppg_min = temp_min\n",
    "        if temp_max > ppg_max:\n",
    "            ppg_max = temp_max\n",
    "for x in range( len(ppg_part3) ):\n",
    "    for i in range( len(ppg_part3[x]) ):\n",
    "        temp_min = np.min( ppg_part3[x][i] )\n",
    "        temp_max = np.max( ppg_part3[x][i] )\n",
    "        if temp_min < ppg_min:\n",
    "            ppg_min = temp_min\n",
    "        if temp_max > ppg_max:\n",
    "            ppg_max = temp_max\n",
    "\n",
    "            \n",
    "ppg_part1 = ( ppg_part1 - ppg_min ) / ( ppg_max - ppg_min )\n",
    "ppg_part2 = ( ppg_part2 - ppg_min ) / ( ppg_max - ppg_min )\n",
    "ppg_part3 = ( ppg_part3 - ppg_min ) / ( ppg_max - ppg_min )\n"
   ]
  },
  {
   "cell_type": "code",
   "execution_count": 39,
   "metadata": {},
   "outputs": [],
   "source": [
    "ppg = []"
   ]
  },
  {
   "cell_type": "code",
   "execution_count": 40,
   "metadata": {},
   "outputs": [],
   "source": [
    "for x in range( len(ppg_part1) ):\n",
    "    for i in range( len(ppg_part1[x]) ):\n",
    "        ppg.append( ppg_part1[x][i] )\n",
    "        \n",
    "for x in range( len(ppg_part2) ):\n",
    "    for i in range( len(ppg_part2[x]) ):\n",
    "        ppg.append( ppg_part2[x][i] )\n",
    "for x in range( len(ppg_part3) ):\n",
    "    for i in range( len(ppg_part3[x]) ):\n",
    "        ppg.append( ppg_part3[x][i] )\n",
    "ppg = np.array( ppg )"
   ]
  },
  {
   "cell_type": "code",
   "execution_count": 41,
   "metadata": {},
   "outputs": [
    {
     "data": {
      "text/plain": [
       "(2468014, 300)"
      ]
     },
     "execution_count": 41,
     "metadata": {},
     "output_type": "execute_result"
    }
   ],
   "source": [
    "ppg.shape"
   ]
  },
  {
   "cell_type": "code",
   "execution_count": 42,
   "metadata": {},
   "outputs": [
    {
     "name": "stdout",
     "output_type": "stream",
     "text": [
      "data preprocessing finished.\n"
     ]
    }
   ],
   "source": [
    "bp = []\n",
    "\n",
    "for x in range( len(sbp) ):\n",
    "    for i in range( len(sbp[x]) ):\n",
    "        temp = []\n",
    "        temp.append( sbp[x][i] )\n",
    "        temp.append( dbp[x][i] )\n",
    "        temp = np.array( temp )\n",
    "        bp.append( temp )\n",
    "bp = np.array( bp )\n",
    "\n",
    "endIndex = int( len(ppg)*0.8 )\n",
    "ppg_train = ppg[0:endIndex]\n",
    "ppg_test = ppg[endIndex:]\n",
    "bp_train = bp[0:endIndex]\n",
    "bp_test = bp[endIndex:]\n",
    "\n",
    "PPG_train = ppg_train.reshape( len(ppg_train) , 300 , 1 ).astype( float )\n",
    "PPG_test = ppg_test.reshape( len(ppg_test) , 300 , 1 ).astype( float )\n",
    "BP_train = bp_train.reshape( len(bp_train) , 1 , 2 ).astype( float )\n",
    "BP_test = bp_test.reshape( len(bp_test) , 1 , 2 ).astype( float )\n",
    "\n",
    "print('data preprocessing finished.')\n"
   ]
  },
  {
   "cell_type": "code",
   "execution_count": 43,
   "metadata": {},
   "outputs": [
    {
     "name": "stdout",
     "output_type": "stream",
     "text": [
      "(1974411, 300, 1)\n",
      "(493603, 300, 1)\n",
      "(1974411, 1, 2)\n",
      "(493603, 1, 2)\n"
     ]
    }
   ],
   "source": [
    "print( PPG_train.shape )\n",
    "print( PPG_test.shape )\n",
    "print( BP_train.shape )\n",
    "print( BP_test.shape )"
   ]
  },
  {
   "cell_type": "code",
   "execution_count": 45,
   "metadata": {},
   "outputs": [
    {
     "name": "stderr",
     "output_type": "stream",
     "text": [
      "/home/Yan-Cheng-Hsu/anaconda3/envs/test/lib/python3.6/site-packages/ipykernel_launcher.py:4: UserWarning: Update your `Conv1D` call to the Keras 2 API: `Conv1D(64, 75, activation=\"relu\", padding=\"same\")`\n",
      "  after removing the cwd from sys.path.\n"
     ]
    },
    {
     "name": "stdout",
     "output_type": "stream",
     "text": [
      "Model: \"model_1\"\n",
      "__________________________________________________________________________________________________\n",
      "Layer (type)                    Output Shape         Param #     Connected to                     \n",
      "==================================================================================================\n",
      "input_2 (InputLayer)            (None, 300, 1)       0                                            \n",
      "__________________________________________________________________________________________________\n",
      "conv1d_2 (Conv1D)               (None, 300, 64)      4864        input_2[0][0]                    \n",
      "__________________________________________________________________________________________________\n",
      "bidirectional_1 (Bidirectional) (None, 300, 256)     148224      conv1d_2[0][0]                   \n",
      "__________________________________________________________________________________________________\n",
      "dropout_1 (Dropout)             (None, 300, 256)     0           bidirectional_1[0][0]            \n",
      "__________________________________________________________________________________________________\n",
      "activation_1 (Activation)       (None, 300, 256)     0           dropout_1[0][0]                  \n",
      "__________________________________________________________________________________________________\n",
      "gru_2 (GRU)                     (None, 300, 128)     147840      activation_1[0][0]               \n",
      "__________________________________________________________________________________________________\n",
      "dropout_2 (Dropout)             (None, 300, 128)     0           gru_2[0][0]                      \n",
      "__________________________________________________________________________________________________\n",
      "activation_2 (Activation)       (None, 300, 128)     0           dropout_2[0][0]                  \n",
      "__________________________________________________________________________________________________\n",
      "gru_3 (GRU)                     (None, 300, 128)     98688       activation_2[0][0]               \n",
      "__________________________________________________________________________________________________\n",
      "dropout_3 (Dropout)             (None, 300, 128)     0           gru_3[0][0]                      \n",
      "__________________________________________________________________________________________________\n",
      "activation_3 (Activation)       (None, 300, 128)     0           dropout_3[0][0]                  \n",
      "__________________________________________________________________________________________________\n",
      "concatenate_1 (Concatenate)     (None, 300, 256)     0           activation_2[0][0]               \n",
      "                                                                 activation_3[0][0]               \n",
      "__________________________________________________________________________________________________\n",
      "gru_4 (GRU)                     (None, 300, 128)     147840      concatenate_1[0][0]              \n",
      "__________________________________________________________________________________________________\n",
      "dropout_4 (Dropout)             (None, 300, 128)     0           gru_4[0][0]                      \n",
      "__________________________________________________________________________________________________\n",
      "activation_4 (Activation)       (None, 300, 128)     0           dropout_4[0][0]                  \n",
      "__________________________________________________________________________________________________\n",
      "concatenate_2 (Concatenate)     (None, 300, 256)     0           activation_4[0][0]               \n",
      "                                                                 activation_2[0][0]               \n",
      "__________________________________________________________________________________________________\n",
      "gru_5 (GRU)                     (None, 300, 128)     147840      concatenate_2[0][0]              \n",
      "__________________________________________________________________________________________________\n",
      "dropout_5 (Dropout)             (None, 300, 128)     0           gru_5[0][0]                      \n",
      "__________________________________________________________________________________________________\n",
      "activation_5 (Activation)       (None, 300, 128)     0           dropout_5[0][0]                  \n",
      "__________________________________________________________________________________________________\n",
      "gru_6 (GRU)                     (None, 300, 128)     98688       activation_5[0][0]               \n",
      "__________________________________________________________________________________________________\n",
      "dropout_6 (Dropout)             (None, 300, 128)     0           gru_6[0][0]                      \n",
      "__________________________________________________________________________________________________\n",
      "activation_6 (Activation)       (None, 300, 128)     0           dropout_6[0][0]                  \n",
      "__________________________________________________________________________________________________\n",
      "dense_1 (Dense)                 (None, 300, 2)       258         activation_6[0][0]               \n",
      "==================================================================================================\n",
      "Total params: 794,242\n",
      "Trainable params: 794,242\n",
      "Non-trainable params: 0\n",
      "__________________________________________________________________________________________________\n",
      "Train on 1776969 samples, validate on 197442 samples\n",
      "Epoch 1/100\n",
      "    272/1776969 [..............................] - ETA: 98:52:52 - loss: 128.6764 "
     ]
    },
    {
     "ename": "KeyboardInterrupt",
     "evalue": "",
     "output_type": "error",
     "traceback": [
      "\u001b[0;31m---------------------------------------------------------------------------\u001b[0m",
      "\u001b[0;31mKeyboardInterrupt\u001b[0m                         Traceback (most recent call last)",
      "\u001b[0;32m<ipython-input-45-a6f5ebced644>\u001b[0m in \u001b[0;36m<module>\u001b[0;34m\u001b[0m\n\u001b[1;32m     51\u001b[0m \u001b[0mGRUModel\u001b[0m\u001b[0;34m.\u001b[0m\u001b[0mcompile\u001b[0m\u001b[0;34m(\u001b[0m\u001b[0moptimizer\u001b[0m \u001b[0;34m=\u001b[0m \u001b[0;34m'adam'\u001b[0m\u001b[0;34m,\u001b[0m \u001b[0mloss\u001b[0m \u001b[0;34m=\u001b[0m \u001b[0mrmse_loss\u001b[0m \u001b[0;34m)\u001b[0m\u001b[0;34m\u001b[0m\u001b[0;34m\u001b[0m\u001b[0m\n\u001b[1;32m     52\u001b[0m \u001b[0mGRUModel\u001b[0m\u001b[0;34m.\u001b[0m\u001b[0msummary\u001b[0m\u001b[0;34m(\u001b[0m\u001b[0;34m)\u001b[0m\u001b[0;34m\u001b[0m\u001b[0;34m\u001b[0m\u001b[0m\n\u001b[0;32m---> 53\u001b[0;31m \u001b[0mGRUModel\u001b[0m\u001b[0;34m.\u001b[0m\u001b[0mfit\u001b[0m\u001b[0;34m(\u001b[0m\u001b[0mPPG_train\u001b[0m\u001b[0;34m,\u001b[0m \u001b[0mBP_train\u001b[0m\u001b[0;34m,\u001b[0m \u001b[0mvalidation_split\u001b[0m \u001b[0;34m=\u001b[0m \u001b[0;36m0.1\u001b[0m \u001b[0;34m,\u001b[0m \u001b[0mepochs\u001b[0m \u001b[0;34m=\u001b[0m \u001b[0;36m100\u001b[0m \u001b[0;34m,\u001b[0m \u001b[0mbatch_size\u001b[0m \u001b[0;34m=\u001b[0m \u001b[0;36m16\u001b[0m\u001b[0;34m)\u001b[0m\u001b[0;34m\u001b[0m\u001b[0;34m\u001b[0m\u001b[0m\n\u001b[0m\u001b[1;32m     54\u001b[0m \u001b[0;34m\u001b[0m\u001b[0m\n\u001b[1;32m     55\u001b[0m \u001b[0mpath\u001b[0m \u001b[0;34m=\u001b[0m \u001b[0;34m'/data1/Yan-Cheng-Hsu/CNNModel/model_20200516/CNN_model_20200516_1.h5'\u001b[0m\u001b[0;34m\u001b[0m\u001b[0;34m\u001b[0m\u001b[0m\n",
      "\u001b[0;32m~/anaconda3/envs/test/lib/python3.6/site-packages/keras/engine/training.py\u001b[0m in \u001b[0;36mfit\u001b[0;34m(self, x, y, batch_size, epochs, verbose, callbacks, validation_split, validation_data, shuffle, class_weight, sample_weight, initial_epoch, steps_per_epoch, validation_steps, validation_freq, max_queue_size, workers, use_multiprocessing, **kwargs)\u001b[0m\n\u001b[1;32m   1237\u001b[0m                                         \u001b[0msteps_per_epoch\u001b[0m\u001b[0;34m=\u001b[0m\u001b[0msteps_per_epoch\u001b[0m\u001b[0;34m,\u001b[0m\u001b[0;34m\u001b[0m\u001b[0;34m\u001b[0m\u001b[0m\n\u001b[1;32m   1238\u001b[0m                                         \u001b[0mvalidation_steps\u001b[0m\u001b[0;34m=\u001b[0m\u001b[0mvalidation_steps\u001b[0m\u001b[0;34m,\u001b[0m\u001b[0;34m\u001b[0m\u001b[0;34m\u001b[0m\u001b[0m\n\u001b[0;32m-> 1239\u001b[0;31m                                         validation_freq=validation_freq)\n\u001b[0m\u001b[1;32m   1240\u001b[0m \u001b[0;34m\u001b[0m\u001b[0m\n\u001b[1;32m   1241\u001b[0m     def evaluate(self,\n",
      "\u001b[0;32m~/anaconda3/envs/test/lib/python3.6/site-packages/keras/engine/training_arrays.py\u001b[0m in \u001b[0;36mfit_loop\u001b[0;34m(model, fit_function, fit_inputs, out_labels, batch_size, epochs, verbose, callbacks, val_function, val_inputs, shuffle, initial_epoch, steps_per_epoch, validation_steps, validation_freq)\u001b[0m\n\u001b[1;32m    194\u001b[0m                     \u001b[0mins_batch\u001b[0m\u001b[0;34m[\u001b[0m\u001b[0mi\u001b[0m\u001b[0;34m]\u001b[0m \u001b[0;34m=\u001b[0m \u001b[0mins_batch\u001b[0m\u001b[0;34m[\u001b[0m\u001b[0mi\u001b[0m\u001b[0;34m]\u001b[0m\u001b[0;34m.\u001b[0m\u001b[0mtoarray\u001b[0m\u001b[0;34m(\u001b[0m\u001b[0;34m)\u001b[0m\u001b[0;34m\u001b[0m\u001b[0;34m\u001b[0m\u001b[0m\n\u001b[1;32m    195\u001b[0m \u001b[0;34m\u001b[0m\u001b[0m\n\u001b[0;32m--> 196\u001b[0;31m                 \u001b[0mouts\u001b[0m \u001b[0;34m=\u001b[0m \u001b[0mfit_function\u001b[0m\u001b[0;34m(\u001b[0m\u001b[0mins_batch\u001b[0m\u001b[0;34m)\u001b[0m\u001b[0;34m\u001b[0m\u001b[0;34m\u001b[0m\u001b[0m\n\u001b[0m\u001b[1;32m    197\u001b[0m                 \u001b[0mouts\u001b[0m \u001b[0;34m=\u001b[0m \u001b[0mto_list\u001b[0m\u001b[0;34m(\u001b[0m\u001b[0mouts\u001b[0m\u001b[0;34m)\u001b[0m\u001b[0;34m\u001b[0m\u001b[0;34m\u001b[0m\u001b[0m\n\u001b[1;32m    198\u001b[0m                 \u001b[0;32mfor\u001b[0m \u001b[0ml\u001b[0m\u001b[0;34m,\u001b[0m \u001b[0mo\u001b[0m \u001b[0;32min\u001b[0m \u001b[0mzip\u001b[0m\u001b[0;34m(\u001b[0m\u001b[0mout_labels\u001b[0m\u001b[0;34m,\u001b[0m \u001b[0mouts\u001b[0m\u001b[0;34m)\u001b[0m\u001b[0;34m:\u001b[0m\u001b[0;34m\u001b[0m\u001b[0;34m\u001b[0m\u001b[0m\n",
      "\u001b[0;32m~/anaconda3/envs/test/lib/python3.6/site-packages/tensorflow_core/python/keras/backend.py\u001b[0m in \u001b[0;36m__call__\u001b[0;34m(self, inputs)\u001b[0m\n\u001b[1;32m   3725\u001b[0m         \u001b[0mvalue\u001b[0m \u001b[0;34m=\u001b[0m \u001b[0mmath_ops\u001b[0m\u001b[0;34m.\u001b[0m\u001b[0mcast\u001b[0m\u001b[0;34m(\u001b[0m\u001b[0mvalue\u001b[0m\u001b[0;34m,\u001b[0m \u001b[0mtensor\u001b[0m\u001b[0;34m.\u001b[0m\u001b[0mdtype\u001b[0m\u001b[0;34m)\u001b[0m\u001b[0;34m\u001b[0m\u001b[0;34m\u001b[0m\u001b[0m\n\u001b[1;32m   3726\u001b[0m       \u001b[0mconverted_inputs\u001b[0m\u001b[0;34m.\u001b[0m\u001b[0mappend\u001b[0m\u001b[0;34m(\u001b[0m\u001b[0mvalue\u001b[0m\u001b[0;34m)\u001b[0m\u001b[0;34m\u001b[0m\u001b[0;34m\u001b[0m\u001b[0m\n\u001b[0;32m-> 3727\u001b[0;31m     \u001b[0moutputs\u001b[0m \u001b[0;34m=\u001b[0m \u001b[0mself\u001b[0m\u001b[0;34m.\u001b[0m\u001b[0m_graph_fn\u001b[0m\u001b[0;34m(\u001b[0m\u001b[0;34m*\u001b[0m\u001b[0mconverted_inputs\u001b[0m\u001b[0;34m)\u001b[0m\u001b[0;34m\u001b[0m\u001b[0;34m\u001b[0m\u001b[0m\n\u001b[0m\u001b[1;32m   3728\u001b[0m \u001b[0;34m\u001b[0m\u001b[0m\n\u001b[1;32m   3729\u001b[0m     \u001b[0;31m# EagerTensor.numpy() will often make a copy to ensure memory safety.\u001b[0m\u001b[0;34m\u001b[0m\u001b[0;34m\u001b[0m\u001b[0;34m\u001b[0m\u001b[0m\n",
      "\u001b[0;32m~/anaconda3/envs/test/lib/python3.6/site-packages/tensorflow_core/python/eager/function.py\u001b[0m in \u001b[0;36m__call__\u001b[0;34m(self, *args, **kwargs)\u001b[0m\n\u001b[1;32m   1549\u001b[0m       \u001b[0mTypeError\u001b[0m\u001b[0;34m:\u001b[0m \u001b[0mFor\u001b[0m \u001b[0minvalid\u001b[0m \u001b[0mpositional\u001b[0m\u001b[0;34m/\u001b[0m\u001b[0mkeyword\u001b[0m \u001b[0margument\u001b[0m \u001b[0mcombinations\u001b[0m\u001b[0;34m.\u001b[0m\u001b[0;34m\u001b[0m\u001b[0;34m\u001b[0m\u001b[0m\n\u001b[1;32m   1550\u001b[0m     \"\"\"\n\u001b[0;32m-> 1551\u001b[0;31m     \u001b[0;32mreturn\u001b[0m \u001b[0mself\u001b[0m\u001b[0;34m.\u001b[0m\u001b[0m_call_impl\u001b[0m\u001b[0;34m(\u001b[0m\u001b[0margs\u001b[0m\u001b[0;34m,\u001b[0m \u001b[0mkwargs\u001b[0m\u001b[0;34m)\u001b[0m\u001b[0;34m\u001b[0m\u001b[0;34m\u001b[0m\u001b[0m\n\u001b[0m\u001b[1;32m   1552\u001b[0m \u001b[0;34m\u001b[0m\u001b[0m\n\u001b[1;32m   1553\u001b[0m   \u001b[0;32mdef\u001b[0m \u001b[0m_call_impl\u001b[0m\u001b[0;34m(\u001b[0m\u001b[0mself\u001b[0m\u001b[0;34m,\u001b[0m \u001b[0margs\u001b[0m\u001b[0;34m,\u001b[0m \u001b[0mkwargs\u001b[0m\u001b[0;34m,\u001b[0m \u001b[0mcancellation_manager\u001b[0m\u001b[0;34m=\u001b[0m\u001b[0;32mNone\u001b[0m\u001b[0;34m)\u001b[0m\u001b[0;34m:\u001b[0m\u001b[0;34m\u001b[0m\u001b[0;34m\u001b[0m\u001b[0m\n",
      "\u001b[0;32m~/anaconda3/envs/test/lib/python3.6/site-packages/tensorflow_core/python/eager/function.py\u001b[0m in \u001b[0;36m_call_impl\u001b[0;34m(self, args, kwargs, cancellation_manager)\u001b[0m\n\u001b[1;32m   1589\u001b[0m       raise TypeError(\"Keyword arguments {} unknown. Expected {}.\".format(\n\u001b[1;32m   1590\u001b[0m           list(kwargs.keys()), list(self._arg_keywords)))\n\u001b[0;32m-> 1591\u001b[0;31m     \u001b[0;32mreturn\u001b[0m \u001b[0mself\u001b[0m\u001b[0;34m.\u001b[0m\u001b[0m_call_flat\u001b[0m\u001b[0;34m(\u001b[0m\u001b[0margs\u001b[0m\u001b[0;34m,\u001b[0m \u001b[0mself\u001b[0m\u001b[0;34m.\u001b[0m\u001b[0mcaptured_inputs\u001b[0m\u001b[0;34m,\u001b[0m \u001b[0mcancellation_manager\u001b[0m\u001b[0;34m)\u001b[0m\u001b[0;34m\u001b[0m\u001b[0;34m\u001b[0m\u001b[0m\n\u001b[0m\u001b[1;32m   1592\u001b[0m \u001b[0;34m\u001b[0m\u001b[0m\n\u001b[1;32m   1593\u001b[0m   \u001b[0;32mdef\u001b[0m \u001b[0m_filtered_call\u001b[0m\u001b[0;34m(\u001b[0m\u001b[0mself\u001b[0m\u001b[0;34m,\u001b[0m \u001b[0margs\u001b[0m\u001b[0;34m,\u001b[0m \u001b[0mkwargs\u001b[0m\u001b[0;34m)\u001b[0m\u001b[0;34m:\u001b[0m\u001b[0;34m\u001b[0m\u001b[0;34m\u001b[0m\u001b[0m\n",
      "\u001b[0;32m~/anaconda3/envs/test/lib/python3.6/site-packages/tensorflow_core/python/eager/function.py\u001b[0m in \u001b[0;36m_call_flat\u001b[0;34m(self, args, captured_inputs, cancellation_manager)\u001b[0m\n\u001b[1;32m   1690\u001b[0m       \u001b[0;31m# No tape is watching; skip to running the function.\u001b[0m\u001b[0;34m\u001b[0m\u001b[0;34m\u001b[0m\u001b[0;34m\u001b[0m\u001b[0m\n\u001b[1;32m   1691\u001b[0m       return self._build_call_outputs(self._inference_function.call(\n\u001b[0;32m-> 1692\u001b[0;31m           ctx, args, cancellation_manager=cancellation_manager))\n\u001b[0m\u001b[1;32m   1693\u001b[0m     forward_backward = self._select_forward_and_backward_functions(\n\u001b[1;32m   1694\u001b[0m         \u001b[0margs\u001b[0m\u001b[0;34m,\u001b[0m\u001b[0;34m\u001b[0m\u001b[0;34m\u001b[0m\u001b[0m\n",
      "\u001b[0;32m~/anaconda3/envs/test/lib/python3.6/site-packages/tensorflow_core/python/eager/function.py\u001b[0m in \u001b[0;36mcall\u001b[0;34m(self, ctx, args, cancellation_manager)\u001b[0m\n\u001b[1;32m    543\u001b[0m               \u001b[0minputs\u001b[0m\u001b[0;34m=\u001b[0m\u001b[0margs\u001b[0m\u001b[0;34m,\u001b[0m\u001b[0;34m\u001b[0m\u001b[0;34m\u001b[0m\u001b[0m\n\u001b[1;32m    544\u001b[0m               \u001b[0mattrs\u001b[0m\u001b[0;34m=\u001b[0m\u001b[0;34m(\u001b[0m\u001b[0;34m\"executor_type\"\u001b[0m\u001b[0;34m,\u001b[0m \u001b[0mexecutor_type\u001b[0m\u001b[0;34m,\u001b[0m \u001b[0;34m\"config_proto\"\u001b[0m\u001b[0;34m,\u001b[0m \u001b[0mconfig\u001b[0m\u001b[0;34m)\u001b[0m\u001b[0;34m,\u001b[0m\u001b[0;34m\u001b[0m\u001b[0;34m\u001b[0m\u001b[0m\n\u001b[0;32m--> 545\u001b[0;31m               ctx=ctx)\n\u001b[0m\u001b[1;32m    546\u001b[0m         \u001b[0;32melse\u001b[0m\u001b[0;34m:\u001b[0m\u001b[0;34m\u001b[0m\u001b[0;34m\u001b[0m\u001b[0m\n\u001b[1;32m    547\u001b[0m           outputs = execute.execute_with_cancellation(\n",
      "\u001b[0;32m~/anaconda3/envs/test/lib/python3.6/site-packages/tensorflow_core/python/eager/execute.py\u001b[0m in \u001b[0;36mquick_execute\u001b[0;34m(op_name, num_outputs, inputs, attrs, ctx, name)\u001b[0m\n\u001b[1;32m     59\u001b[0m     tensors = pywrap_tensorflow.TFE_Py_Execute(ctx._handle, device_name,\n\u001b[1;32m     60\u001b[0m                                                \u001b[0mop_name\u001b[0m\u001b[0;34m,\u001b[0m \u001b[0minputs\u001b[0m\u001b[0;34m,\u001b[0m \u001b[0mattrs\u001b[0m\u001b[0;34m,\u001b[0m\u001b[0;34m\u001b[0m\u001b[0;34m\u001b[0m\u001b[0m\n\u001b[0;32m---> 61\u001b[0;31m                                                num_outputs)\n\u001b[0m\u001b[1;32m     62\u001b[0m   \u001b[0;32mexcept\u001b[0m \u001b[0mcore\u001b[0m\u001b[0;34m.\u001b[0m\u001b[0m_NotOkStatusException\u001b[0m \u001b[0;32mas\u001b[0m \u001b[0me\u001b[0m\u001b[0;34m:\u001b[0m\u001b[0;34m\u001b[0m\u001b[0;34m\u001b[0m\u001b[0m\n\u001b[1;32m     63\u001b[0m     \u001b[0;32mif\u001b[0m \u001b[0mname\u001b[0m \u001b[0;32mis\u001b[0m \u001b[0;32mnot\u001b[0m \u001b[0;32mNone\u001b[0m\u001b[0;34m:\u001b[0m\u001b[0;34m\u001b[0m\u001b[0;34m\u001b[0m\u001b[0m\n",
      "\u001b[0;31mKeyboardInterrupt\u001b[0m: "
     ]
    }
   ],
   "source": [
    "#model1 start\n",
    "Inputshape = ( len(PPG_train[0]) , len(PPG_train[0][0]) )\n",
    "X_input1 = Input( Inputshape )\n",
    "X_CNN1 = Conv1D( 64 , int(len( PPG_train[0] )/4) , border_mode = 'same' , activation = 'relu' )( X_input1 )\n",
    "X_CNN1 = MaxPooling1D( poolsize = 2 )( X_CNN1 )\n",
    "X_CNN1 = Conv1D( 64 , 4 , border_mode = 'same' , activation = 'relu' )( X_CNN1 ) \n",
    "X_CNN1 = X_CNN1 = MaxPooling1D( poolsize = 2 )( X_CNN1 )\n",
    "X_CNN1 = Conv1D( 128 , 4 , border_mode = 'same' , activation = 'relu' )( X_CNN1 ) \n",
    "X_CNN1 = X_CNN1 = MaxPooling1D( poolsize = 2 )( X_CNN1 )\n",
    "X_CNN1 = Dropout(0.25)(X_CNN1)\n",
    "X_CNN1 = BatchNormalization( X_CNN1 )\n",
    "\n",
    "\n",
    "\n",
    "X_input2 = Input( Inputshape )\n",
    "X_CNN2 = Conv1D( 64 , int(len( PPG_train[0] )/2) , border_mode = 'same' , activation = 'relu' )( X_input2 )\n",
    "X_CNN2 = MaxPooling1D( poolsize = 2 )( X_CNN2 )\n",
    "X_CNN2 = Conv1D( 64 , 4 , border_mode = 'same' , activation = 'relu' )( X_CNN2 ) \n",
    "X_CNN2 = X_CNN1 = MaxPooling1D( poolsize = 2 )( X_CNN2 )\n",
    "X_CNN2 = Conv1D( 128 , 4 , border_mode = 'same' , activation = 'relu' )( X_CNN2 ) \n",
    "X_CNN2 = X_CNN1 = MaxPooling1D( poolsize = 2 )( X_CNN2 )\n",
    "X_CNN2 = Dropout(0.25)(X_CNN2)\n",
    "X_CNN2 = BatchNormalization( X_CNN2 )\n",
    "\n",
    "X_input3 = Input( Inputshape )\n",
    "X_CNN3 = Conv1D( 64 , int(len( PPG_train[0] )/2) , border_mode = 'same' , activation = 'relu' )( X_input3 )\n",
    "X_CNN3 = MaxPooling1D( poolsize = 2 )( X_CNN3 )\n",
    "X_CNN3 = Conv1D( 64 , 4 , border_mode = 'same' , activation = 'relu' )( X_CNN3 ) \n",
    "X_CNN3 = X_CNN1 = MaxPooling1D( poolsize = 2 )( X_CNN3 )\n",
    "X_CNN3 = Conv1D( 128 , 4 , border_mode = 'same' , activation = 'relu' )( X_CNN3 ) \n",
    "X_CNN3 = X_CNN1 = MaxPooling1D( poolsize = 2 )( X_CNN3 )\n",
    "X_CNN3 = Dropout(0.25)(X_CNN3)\n",
    "X_CNN3 = BatchNormalization( X_CNN3 )\n",
    "\n",
    "\n",
    "X_CNN = concatenate( [ X_CNN1 , X_CNN2 , X_CNN3 ] )\n",
    "\n",
    "\n",
    "LayerUnits = 256\n",
    "X0 = Bidirectional(GRU(LayerUnits, return_sequences=True), merge_mode='concat')(X_CNN)\n",
    "X0 = Dropout(0.2)(X0)\n",
    "X0 = Activation('relu')(X0)\n",
    "\n",
    "X = GRU(LayerUnits, return_sequences=True)(X0)\n",
    "X = Dropout(0.2)(X)\n",
    "X = Activation('relu')(X)\n",
    "\n",
    "X1 = GRU(LayerUnits, return_sequences=True)(X)\n",
    "X1 = Dropout(0.2)(X1)\n",
    "X1 = Activation('relu')(X1)\n",
    "\n",
    "X2 = concatenate([X, X1])\n",
    "X2 = GRU(LayerUnits, return_sequences=True)(X2)\n",
    "X2 = Dropout(0.2)(X2)\n",
    "X2 = Activation('relu')(X2)\n",
    "\n",
    "\n",
    "X3 = concatenate( [X2,X] )\n",
    "X3 = GRU(LayerUnits, return_sequences=True)(X3)\n",
    "X3 = Dropout(0.2)(X3)\n",
    "X3 = Activation('relu')(X3)\n",
    "\n",
    "X3 = GRU(LayerUnits, return_sequences=True)(X3)\n",
    "X3 = Dropout(0.2)(X3)\n",
    "X3 = Activation('relu')(X3)\n",
    "\n",
    "\n",
    "X_output = Dense(2)(X3)\n",
    "\n",
    "GRUModel = Model( inputs = X_input1 , inputs =X_input2 , inputs =X_input3 , outputs = X_output )\n",
    "# Compiling\n",
    "GRUModel.compile(optimizer = 'adam', loss = rmse_loss )\n",
    "GRUModel.summary()\n",
    "GRUModel.fit(PPG_train, PPG_train, PPG_train, BP_train, validation_split = 0.1 , epochs = 100 , batch_size = 16)\n",
    "\n",
    "path = '/data1/Yan-Cheng-Hsu/CNNModel/model_20200516/CNN_model_20200516_1.h5'\n",
    "print( 'saving model.....' )\n",
    "GRUModel.save( path )\n",
    "print( 'finish saving model.....' )\n",
    "\n",
    "\n",
    "\n",
    "print( 'Training set : '  ,  GRUModel.evaluate( PPG_test , BP_test ) )\n",
    "print( 'Testing set :' , GRUModel.evaluate( PPG_test , BP_test ) )\n",
    "\n"
   ]
  },
  {
   "cell_type": "code",
   "execution_count": null,
   "metadata": {},
   "outputs": [],
   "source": []
  }
 ],
 "metadata": {
  "kernelspec": {
   "display_name": "Python 3",
   "language": "python",
   "name": "python3"
  },
  "language_info": {
   "codemirror_mode": {
    "name": "ipython",
    "version": 3
   },
   "file_extension": ".py",
   "mimetype": "text/x-python",
   "name": "python",
   "nbconvert_exporter": "python",
   "pygments_lexer": "ipython3",
   "version": "3.6.10"
  }
 },
 "nbformat": 4,
 "nbformat_minor": 4
}
