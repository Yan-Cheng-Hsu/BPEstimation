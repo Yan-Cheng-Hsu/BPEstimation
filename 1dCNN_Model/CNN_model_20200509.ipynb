{
 "cells": [
  {
   "cell_type": "code",
   "execution_count": 1,
   "metadata": {},
   "outputs": [
    {
     "name": "stderr",
     "output_type": "stream",
     "text": [
      "\n",
      "Bad key \"text.kerning_factor\" on line 4 in\n",
      "/home/Yan-Cheng-Hsu/anaconda3/envs/test/lib/python3.6/site-packages/matplotlib/mpl-data/stylelib/_classic_test_patch.mplstyle.\n",
      "You probably need to get an updated matplotlibrc file from\n",
      "https://github.com/matplotlib/matplotlib/blob/v3.1.3/matplotlibrc.template\n",
      "or from the matplotlib source distribution\n"
     ]
    }
   ],
   "source": [
    "import numpy as np\n",
    "import matplotlib.pyplot as plt"
   ]
  },
  {
   "cell_type": "code",
   "execution_count": 2,
   "metadata": {},
   "outputs": [],
   "source": [
    "ppg_part1 = np.load( '/data1/Yan-Cheng-Hsu/ppgData/dataperC/ppg_part1.npy' , allow_pickle = True )\n",
    "ppg_part2 = np.load( '/data1/Yan-Cheng-Hsu/ppgData/dataperC/ppg_part2.npy' , allow_pickle = True )\n",
    "ppg_part3 = np.load( '/data1/Yan-Cheng-Hsu/ppgData/dataperC/ppg_part3.npy' , allow_pickle = True )\n",
    "diff1_part1 = np.load( '/data1/Yan-Cheng-Hsu/ppgData/dataperC/diff1_part1.npy' , allow_pickle = True )\n",
    "diff1_part2 = np.load( '/data1/Yan-Cheng-Hsu/ppgData/dataperC/diff1_part2.npy' , allow_pickle = True )\n",
    "diff1_part3 = np.load( '/data1/Yan-Cheng-Hsu/ppgData/dataperC/diff1_part3.npy' , allow_pickle = True )\n",
    "diff2_part1 = np.load( '/data1/Yan-Cheng-Hsu/ppgData/dataperC/diff2_part1.npy' , allow_pickle = True )\n",
    "diff2_part2 = np.load( '/data1/Yan-Cheng-Hsu/ppgData/dataperC/diff2_part2.npy' , allow_pickle = True )\n",
    "diff2_part3 = np.load( '/data1/Yan-Cheng-Hsu/ppgData/dataperC/diff2_part3.npy' , allow_pickle = True )\n",
    "sbp = np.load( '/data1/Yan-Cheng-Hsu/ppgData/dataperC/sbp.npy' , allow_pickle = True )\n",
    "dbp = np.load( '/data1/Yan-Cheng-Hsu/ppgData/dataperC/dbp.npy' , allow_pickle = True )"
   ]
  },
  {
   "cell_type": "code",
   "execution_count": 3,
   "metadata": {},
   "outputs": [],
   "source": [
    "ppg_min = 100\n",
    "ppg_max = -100\n",
    "\n",
    "for x in range( len(ppg_part1) ):\n",
    "    for i in range( len(ppg_part1[x]) ):\n",
    "        temp_min = np.min( ppg_part1[x][i] )\n",
    "        temp_max = np.max( ppg_part1[x][i] )\n",
    "        if temp_min < ppg_min:\n",
    "            ppg_min = temp_min\n",
    "        if temp_max > ppg_max:\n",
    "            ppg_max = temp_max\n",
    "for x in range( len(ppg_part2) ):\n",
    "    for i in range( len(ppg_part2[x]) ):\n",
    "        temp_min = np.min( ppg_part2[x][i] )\n",
    "        temp_max = np.max( ppg_part2[x][i] )\n",
    "        if temp_min < ppg_min:\n",
    "            ppg_min = temp_min\n",
    "        if temp_max > ppg_max:\n",
    "            ppg_max = temp_max\n",
    "for x in range( len(ppg_part3) ):\n",
    "    for i in range( len(ppg_part3[x]) ):\n",
    "        temp_min = np.min( ppg_part3[x][i] )\n",
    "        temp_max = np.max( ppg_part3[x][i] )\n",
    "        if temp_min < ppg_min:\n",
    "            ppg_min = temp_min\n",
    "        if temp_max > ppg_max:\n",
    "            ppg_max = temp_max\n",
    "\n",
    "diff1_min = 100\n",
    "diff1_max = -100\n",
    "\n",
    "for x in range( len(diff1_part1) ):\n",
    "    for i in range( len(diff1_part1[x]) ):\n",
    "        temp_min = np.min( diff1_part1[x][i] )\n",
    "        temp_max = np.max( diff1_part1[x][i] )\n",
    "        if temp_min < diff1_min:\n",
    "            diff1_min = temp_min\n",
    "        if temp_max > diff1_max:\n",
    "            diff1_max = temp_max\n",
    "for x in range( len(diff1_part2) ):\n",
    "    for i in range( len(diff1_part2[x]) ):\n",
    "        temp_min = np.min( diff1_part2[x][i] )\n",
    "        temp_max = np.max( diff1_part2[x][i] )\n",
    "        if temp_min < diff1_min:\n",
    "            diff1_min = temp_min\n",
    "        if temp_max > diff1_max:\n",
    "            diff1_max = temp_max\n",
    "for x in range( len(diff1_part3) ):\n",
    "    for i in range( len(diff1_part3[x]) ):\n",
    "        temp_min = np.min( diff1_part3[x][i] )\n",
    "        temp_max = np.max( diff1_part3[x][i] )\n",
    "        if temp_min < diff1_min:\n",
    "            diff1_min = temp_min\n",
    "        if temp_max > diff1_max:\n",
    "            diff1_max = temp_max\n",
    "\n",
    "diff2_min = 100\n",
    "diff2_max = -100\n",
    "for x in range( len(diff2_part1) ):\n",
    "    for i in range( len(diff2_part1[x]) ):\n",
    "        temp_min = np.min( diff2_part1[x][i] )\n",
    "        temp_max = np.max( diff2_part1[x][i] )\n",
    "        if temp_min < diff2_min:\n",
    "            diff2_min = temp_min\n",
    "        if temp_max > diff2_max:\n",
    "            diff2_max = temp_max\n",
    "for x in range( len(diff2_part2) ):\n",
    "    for i in range( len(diff2_part2[x]) ):\n",
    "        temp_min = np.min( diff2_part2[x][i] )\n",
    "        temp_max = np.max( diff2_part2[x][i] )\n",
    "        if temp_min < diff2_min:\n",
    "            diff2_min = temp_min\n",
    "        if temp_max > diff2_max:\n",
    "            diff2_max = temp_max\n",
    "for x in range( len(diff2_part3) ):\n",
    "    for i in range( len(diff2_part3[x]) ):\n",
    "        temp_min = np.min( diff2_part3[x][i] )\n",
    "        temp_max = np.max( diff2_part3[x][i] )\n",
    "        if temp_min < diff2_min:\n",
    "            diff2_min = temp_min\n",
    "        if temp_max > diff2_max:\n",
    "            diff2_max = temp_max\n",
    "\n",
    "            \n",
    "ppg_part1 = ( ppg_part1 - ppg_min ) / ( ppg_max - ppg_min )\n",
    "ppg_part2 = ( ppg_part2 - ppg_min ) / ( ppg_max - ppg_min )\n",
    "ppg_part3 = ( ppg_part3 - ppg_min ) / ( ppg_max - ppg_min )\n",
    "diff1_part1 = ( diff1_part1 - diff1_min ) / ( diff1_max - diff1_min )\n",
    "diff1_part2 = ( diff1_part2 - diff1_min ) / ( diff1_max - diff1_min )\n",
    "diff1_part3 = ( diff1_part3 - diff1_min ) / ( diff1_max - diff1_min )\n",
    "diff2_part1 = ( diff2_part1 - diff2_min ) / ( diff2_max - diff2_min )\n",
    "diff2_part2 = ( diff2_part2 - diff2_min ) / ( diff2_max - diff2_min )\n",
    "diff2_part3 = ( diff2_part3 - diff2_min ) / ( diff2_max - diff2_min )"
   ]
  },
  {
   "cell_type": "code",
   "execution_count": 8,
   "metadata": {},
   "outputs": [
    {
     "data": {
      "image/png": "[encoded data removed]",
      "text/plain": [
       "<Figure size 432x288 with 1 Axes>"
      ]
     },
     "metadata": {
      "needs_background": "light"
     },
     "output_type": "display_data"
    }
   ],
   "source": [
    "n = len(ppg_part1[1][2])\n",
    "t = np.linspace( 0 , n , n )\n",
    "plt.plot( t , ppg_part1[1][2] , color = 'blue' , label = 'PPG')\n",
    "plt.title('PPG cycle' , color = 'red')\n",
    "plt.legend( loc = 'best' )\n",
    "plt.show()"
   ]
  },
  {
   "cell_type": "code",
   "execution_count": 4,
   "metadata": {},
   "outputs": [],
   "source": [
    "ppg = []\n",
    "diff1 = []\n",
    "diff2 = []"
   ]
  },
  {
   "cell_type": "code",
   "execution_count": 5,
   "metadata": {},
   "outputs": [],
   "source": [
    "for x in range( len(ppg_part1) ):\n",
    "    if len(ppg_part1[x]) >= 10:\n",
    "        for i in range( 10 , len(ppg_part1[x]) , 10 ):\n",
    "            ppg.append( ppg_part1[x][i-10:i] )\n",
    "for x in range( len(ppg_part2) ):\n",
    "    if len(ppg_part2[x]) >= 10:\n",
    "        for i in range( 10 , len(ppg_part2[x]) , 10 ):\n",
    "            ppg.append( ppg_part2[x][i-10:i] )\n",
    "for x in range( len(ppg_part3) ):\n",
    "    if len(ppg_part3[x]) >= 10:\n",
    "        for i in range( 10 , len(ppg_part3[x]) , 10 ):\n",
    "            ppg.append( ppg_part3[x][i-10:i] )\n",
    "\n",
    "for x in range( len(diff1_part1) ):\n",
    "    if len(diff1_part1[x]) >= 10:\n",
    "        for i in range( 10 , len(diff1_part1[x]) , 10 ):\n",
    "            diff1.append( diff1_part1[x][i-10:i] )\n",
    "for x in range( len(diff1_part2) ):\n",
    "    if len(diff1_part2[x]) >= 10:\n",
    "        for i in range( 10 , len(diff1_part2[x]) , 10 ):\n",
    "            diff1.append( diff1_part2[x][i-10:i] )\n",
    "for x in range( len(diff1_part3) ):\n",
    "    if len(diff1_part3[x]) >= 10:\n",
    "        for i in range( 10 , len(diff1_part3[x]) , 10 ):\n",
    "            diff1.append( diff1_part3[x][i-10:i] )\n",
    "            \n",
    "\n",
    "for x in range( len(diff2_part1) ):\n",
    "    if len(diff2_part1[x]) >= 10:\n",
    "        for i in range( 10 , len(diff2_part1[x]) , 10 ):\n",
    "            diff2.append( diff2_part1[x][i-10:i] )\n",
    "for x in range( len(diff2_part2) ):\n",
    "    if len(diff2_part2[x]) >= 10:\n",
    "        for i in range( 10 , len(diff2_part2[x]) , 10 ):\n",
    "            diff2.append( diff2_part2[x][i-10:i] )\n",
    "for x in range( len(diff2_part3) ):\n",
    "    if len(diff2_part3[x]) >= 10:\n",
    "        for i in range( 10 , len(diff2_part3[x]) , 10 ):\n",
    "            diff2.append( diff2_part3[x][i-10:i] )"
   ]
  },
  {
   "cell_type": "code",
   "execution_count": 6,
   "metadata": {},
   "outputs": [],
   "source": [
    "bp = []"
   ]
  },
  {
   "cell_type": "code",
   "execution_count": 7,
   "metadata": {},
   "outputs": [],
   "source": [
    "for x in range( len(sbp) ):\n",
    "    if len(sbp) >= 10:\n",
    "        for i in range( 10 , len(sbp[x]) , 10 ):\n",
    "            temp_s = sbp[x][i-10:i]\n",
    "            temp_d = dbp[x][i-10:i]\n",
    "            bp_list = []\n",
    "            for j in range( len(temp_s) ):\n",
    "                temp_bp = []\n",
    "                temp_bp.append( temp_s[j] )\n",
    "                temp_bp.append( temp_d[j] )\n",
    "                bp_list.append( temp_bp )\n",
    "            bp_list = np.array( bp_list )\n",
    "            bp.append( bp_list )            "
   ]
  },
  {
   "cell_type": "code",
   "execution_count": 8,
   "metadata": {},
   "outputs": [],
   "source": [
    "ppg_part1 = []\n",
    "ppg_part2 = []\n",
    "ppg_part3 = []\n",
    "diff1_part1 = []\n",
    "diff1_part2 = []\n",
    "diff1_part3 = []\n",
    "diff2_part1 = []\n",
    "diff2_part2 = []\n",
    "diff2_part3 = []\n",
    "sbp = []\n",
    "dbp = []"
   ]
  },
  {
   "cell_type": "code",
   "execution_count": 9,
   "metadata": {},
   "outputs": [],
   "source": [
    "endIndex = int( len(ppg)*0.8 )\n",
    "ppg_train = ppg[0:endIndex]\n",
    "ppg_test = ppg[endIndex:]\n",
    "diff1_train = diff1[0:endIndex]\n",
    "diff1_test = diff1[endIndex:]\n",
    "diff2_train = diff2[0:endIndex]\n",
    "diff2_test = diff2[endIndex:]\n",
    "bp_train = bp[0:endIndex]\n",
    "bp_test = bp[endIndex:]"
   ]
  },
  {
   "cell_type": "code",
   "execution_count": 10,
   "metadata": {},
   "outputs": [],
   "source": [
    "PPG_train = np.ndarray( ( len(ppg_train) , len(ppg_train[0]) , len(ppg_train[0][0]) ), dtype=float)\n",
    "for i in range( len(ppg_train) ):\n",
    "    PPG_train[i] = ppg_train[i]\n",
    "PPG_test = np.ndarray( ( len(ppg_test) , len(ppg_test[0]) , len(ppg_test[0][0]) ), dtype=float)\n",
    "for i in range( len(ppg_test) ):\n",
    "    PPG_test[i] = ppg_test[i]\n",
    "DIFF1_train = np.ndarray( ( len(diff1_train) , len(diff1_train[0]) , len(diff1_train[0][0]) ), dtype=float)\n",
    "for i in range( len(diff1_train) ):\n",
    "    DIFF1_train[i] = diff1_train[i] \n",
    "DIFF1_test = np.ndarray( ( len(diff1_test) , len(diff1_test[0]) , len(diff1_test[0][0]) ), dtype=float)\n",
    "for i in range( len(diff1_test) ):\n",
    "    DIFF1_test[i] = diff1_test[i] \n",
    "DIFF2_train = np.ndarray( ( len(diff2_train) , len(diff2_train[0]) , len(diff2_train[0][0]) ), dtype=float)\n",
    "for i in range( len(diff2_train) ):\n",
    "    DIFF2_train[i] = diff2_train[i] \n",
    "DIFF2_test = np.ndarray( ( len(diff2_test) , len(diff2_test[0]) , len(diff2_test[0][0]) ), dtype=float)\n",
    "for i in range( len(diff2_test) ):\n",
    "    DIFF2_test[i] = diff2_test[i] \n",
    "\n",
    "BP_train = np.ndarray( ( len(bp_train) , len(bp_train[0]) , len(bp_train[0][0]) ), dtype=float)\n",
    "for i in range( len(bp_train) ):\n",
    "    BP_train[i] = bp_train[i]\n",
    "BP_test = np.ndarray( ( len(bp_test) , len(bp_test[0]) , len(bp_test[0][0]) ), dtype=float)\n",
    "for i in range( len(bp_test) ):\n",
    "    BP_test[i] = bp_test[i]"
   ]
  },
  {
   "cell_type": "code",
   "execution_count": 11,
   "metadata": {
    "scrolled": true
   },
   "outputs": [
    {
     "name": "stderr",
     "output_type": "stream",
     "text": [
      "Using TensorFlow backend.\n"
     ]
    }
   ],
   "source": [
    "from keras.models import Model , Sequential\n",
    "from keras.layers import Input, LSTM , Bidirectional , Dropout , Activation , Dense , Add , GRU\n",
    "from keras.layers import Conv1D , MaxPooling1D , Flatten , AveragePooling1D , Concatenate\n",
    "from keras.optimizers import Adam\n",
    "from keras import backend as K\n",
    "from keras.utils import multi_gpu_model\n",
    "#from keras.utils.vis_utils import plot_model"
   ]
  },
  {
   "cell_type": "code",
   "execution_count": 12,
   "metadata": {},
   "outputs": [],
   "source": [
    "def rmse_loss (y_true, y_pred):\n",
    "    return K.sqrt(K.mean(K.square(y_true - y_pred)))"
   ]
  },
  {
   "cell_type": "code",
   "execution_count": 28,
   "metadata": {},
   "outputs": [
    {
     "name": "stderr",
     "output_type": "stream",
     "text": [
      "/home/Yan-Cheng-Hsu/anaconda3/envs/test/lib/python3.6/site-packages/ipykernel_launcher.py:6: UserWarning: Update your `Conv1D` call to the Keras 2 API: `Conv1D(64, 3, activation=\"relu\", padding=\"same\")`\n",
      "  \n",
      "/home/Yan-Cheng-Hsu/anaconda3/envs/test/lib/python3.6/site-packages/ipykernel_launcher.py:7: UserWarning: Update your `Conv1D` call to the Keras 2 API: `Conv1D(128, 3, activation=\"relu\", padding=\"same\")`\n",
      "  import sys\n"
     ]
    },
    {
     "name": "stdout",
     "output_type": "stream",
     "text": [
      "Model: \"model_10\"\n",
      "_________________________________________________________________\n",
      "Layer (type)                 Output Shape              Param #   \n",
      "=================================================================\n",
      "input_16 (InputLayer)        (None, 10, 300)           0         \n",
      "_________________________________________________________________\n",
      "conv1d_26 (Conv1D)           (None, 10, 128)           115328    \n",
      "_________________________________________________________________\n",
      "bidirectional_3 (Bidirection (None, 10, 256)           197376    \n",
      "_________________________________________________________________\n",
      "dropout_19 (Dropout)         (None, 10, 256)           0         \n",
      "_________________________________________________________________\n",
      "activation_19 (Activation)   (None, 10, 256)           0         \n",
      "_________________________________________________________________\n",
      "gru_26 (GRU)                 (None, 10, 128)           147840    \n",
      "_________________________________________________________________\n",
      "dropout_20 (Dropout)         (None, 10, 128)           0         \n",
      "_________________________________________________________________\n",
      "activation_20 (Activation)   (None, 10, 128)           0         \n",
      "_________________________________________________________________\n",
      "gru_27 (GRU)                 (None, 10, 128)           98688     \n",
      "_________________________________________________________________\n",
      "dropout_21 (Dropout)         (None, 10, 128)           0         \n",
      "_________________________________________________________________\n",
      "activation_21 (Activation)   (None, 10, 128)           0         \n",
      "_________________________________________________________________\n",
      "gru_28 (GRU)                 (None, 10, 128)           98688     \n",
      "_________________________________________________________________\n",
      "dropout_22 (Dropout)         (None, 10, 128)           0         \n",
      "_________________________________________________________________\n",
      "activation_22 (Activation)   (None, 10, 128)           0         \n",
      "_________________________________________________________________\n",
      "gru_29 (GRU)                 (None, 10, 128)           98688     \n",
      "_________________________________________________________________\n",
      "dropout_23 (Dropout)         (None, 10, 128)           0         \n",
      "_________________________________________________________________\n",
      "activation_23 (Activation)   (None, 10, 128)           0         \n",
      "_________________________________________________________________\n",
      "dense_10 (Dense)             (None, 10, 2)             258       \n",
      "=================================================================\n",
      "Total params: 756,866\n",
      "Trainable params: 756,866\n",
      "Non-trainable params: 0\n",
      "_________________________________________________________________\n",
      "Train on 174196 samples, validate on 19356 samples\n",
      "Epoch 1/200\n",
      " 14272/174196 [=>............................] - ETA: 9:16 - loss: 114.2542"
     ]
    },
    {
     "ename": "KeyboardInterrupt",
     "evalue": "",
     "output_type": "error",
     "traceback": [
      "\u001b[0;31m---------------------------------------------------------------------------\u001b[0m",
      "\u001b[0;31mKeyboardInterrupt\u001b[0m                         Traceback (most recent call last)",
      "\u001b[0;32m<ipython-input-28-2914239045bb>\u001b[0m in \u001b[0;36m<module>\u001b[0;34m\u001b[0m\n\u001b[1;32m     40\u001b[0m \u001b[0mGRUModel\u001b[0m\u001b[0;34m.\u001b[0m\u001b[0msummary\u001b[0m\u001b[0;34m(\u001b[0m\u001b[0;34m)\u001b[0m\u001b[0;34m\u001b[0m\u001b[0;34m\u001b[0m\u001b[0m\n\u001b[1;32m     41\u001b[0m \u001b[0;34m\u001b[0m\u001b[0m\n\u001b[0;32m---> 42\u001b[0;31m \u001b[0mGRUModel\u001b[0m\u001b[0;34m.\u001b[0m\u001b[0mfit\u001b[0m\u001b[0;34m(\u001b[0m\u001b[0mPPG_train\u001b[0m\u001b[0;34m,\u001b[0m \u001b[0mBP_train\u001b[0m\u001b[0;34m,\u001b[0m \u001b[0mvalidation_split\u001b[0m \u001b[0;34m=\u001b[0m \u001b[0;36m0.1\u001b[0m \u001b[0;34m,\u001b[0m \u001b[0mepochs\u001b[0m \u001b[0;34m=\u001b[0m \u001b[0;36m200\u001b[0m\u001b[0;34m,\u001b[0m \u001b[0mbatch_size\u001b[0m \u001b[0;34m=\u001b[0m \u001b[0;36m32\u001b[0m\u001b[0;34m)\u001b[0m\u001b[0;34m\u001b[0m\u001b[0;34m\u001b[0m\u001b[0m\n\u001b[0m",
      "\u001b[0;32m~/anaconda3/envs/test/lib/python3.6/site-packages/keras/engine/training.py\u001b[0m in \u001b[0;36mfit\u001b[0;34m(self, x, y, batch_size, epochs, verbose, callbacks, validation_split, validation_data, shuffle, class_weight, sample_weight, initial_epoch, steps_per_epoch, validation_steps, validation_freq, max_queue_size, workers, use_multiprocessing, **kwargs)\u001b[0m\n\u001b[1;32m   1237\u001b[0m                                         \u001b[0msteps_per_epoch\u001b[0m\u001b[0;34m=\u001b[0m\u001b[0msteps_per_epoch\u001b[0m\u001b[0;34m,\u001b[0m\u001b[0;34m\u001b[0m\u001b[0;34m\u001b[0m\u001b[0m\n\u001b[1;32m   1238\u001b[0m                                         \u001b[0mvalidation_steps\u001b[0m\u001b[0;34m=\u001b[0m\u001b[0mvalidation_steps\u001b[0m\u001b[0;34m,\u001b[0m\u001b[0;34m\u001b[0m\u001b[0;34m\u001b[0m\u001b[0m\n\u001b[0;32m-> 1239\u001b[0;31m                                         validation_freq=validation_freq)\n\u001b[0m\u001b[1;32m   1240\u001b[0m \u001b[0;34m\u001b[0m\u001b[0m\n\u001b[1;32m   1241\u001b[0m     def evaluate(self,\n",
      "\u001b[0;32m~/anaconda3/envs/test/lib/python3.6/site-packages/keras/engine/training_arrays.py\u001b[0m in \u001b[0;36mfit_loop\u001b[0;34m(model, fit_function, fit_inputs, out_labels, batch_size, epochs, verbose, callbacks, val_function, val_inputs, shuffle, initial_epoch, steps_per_epoch, validation_steps, validation_freq)\u001b[0m\n\u001b[1;32m    194\u001b[0m                     \u001b[0mins_batch\u001b[0m\u001b[0;34m[\u001b[0m\u001b[0mi\u001b[0m\u001b[0;34m]\u001b[0m \u001b[0;34m=\u001b[0m \u001b[0mins_batch\u001b[0m\u001b[0;34m[\u001b[0m\u001b[0mi\u001b[0m\u001b[0;34m]\u001b[0m\u001b[0;34m.\u001b[0m\u001b[0mtoarray\u001b[0m\u001b[0;34m(\u001b[0m\u001b[0;34m)\u001b[0m\u001b[0;34m\u001b[0m\u001b[0;34m\u001b[0m\u001b[0m\n\u001b[1;32m    195\u001b[0m \u001b[0;34m\u001b[0m\u001b[0m\n\u001b[0;32m--> 196\u001b[0;31m                 \u001b[0mouts\u001b[0m \u001b[0;34m=\u001b[0m \u001b[0mfit_function\u001b[0m\u001b[0;34m(\u001b[0m\u001b[0mins_batch\u001b[0m\u001b[0;34m)\u001b[0m\u001b[0;34m\u001b[0m\u001b[0;34m\u001b[0m\u001b[0m\n\u001b[0m\u001b[1;32m    197\u001b[0m                 \u001b[0mouts\u001b[0m \u001b[0;34m=\u001b[0m \u001b[0mto_list\u001b[0m\u001b[0;34m(\u001b[0m\u001b[0mouts\u001b[0m\u001b[0;34m)\u001b[0m\u001b[0;34m\u001b[0m\u001b[0;34m\u001b[0m\u001b[0m\n\u001b[1;32m    198\u001b[0m                 \u001b[0;32mfor\u001b[0m \u001b[0ml\u001b[0m\u001b[0;34m,\u001b[0m \u001b[0mo\u001b[0m \u001b[0;32min\u001b[0m \u001b[0mzip\u001b[0m\u001b[0;34m(\u001b[0m\u001b[0mout_labels\u001b[0m\u001b[0;34m,\u001b[0m \u001b[0mouts\u001b[0m\u001b[0;34m)\u001b[0m\u001b[0;34m:\u001b[0m\u001b[0;34m\u001b[0m\u001b[0;34m\u001b[0m\u001b[0m\n",
      "\u001b[0;32m~/anaconda3/envs/test/lib/python3.6/site-packages/tensorflow_core/python/keras/backend.py\u001b[0m in \u001b[0;36m__call__\u001b[0;34m(self, inputs)\u001b[0m\n\u001b[1;32m   3725\u001b[0m         \u001b[0mvalue\u001b[0m \u001b[0;34m=\u001b[0m \u001b[0mmath_ops\u001b[0m\u001b[0;34m.\u001b[0m\u001b[0mcast\u001b[0m\u001b[0;34m(\u001b[0m\u001b[0mvalue\u001b[0m\u001b[0;34m,\u001b[0m \u001b[0mtensor\u001b[0m\u001b[0;34m.\u001b[0m\u001b[0mdtype\u001b[0m\u001b[0;34m)\u001b[0m\u001b[0;34m\u001b[0m\u001b[0;34m\u001b[0m\u001b[0m\n\u001b[1;32m   3726\u001b[0m       \u001b[0mconverted_inputs\u001b[0m\u001b[0;34m.\u001b[0m\u001b[0mappend\u001b[0m\u001b[0;34m(\u001b[0m\u001b[0mvalue\u001b[0m\u001b[0;34m)\u001b[0m\u001b[0;34m\u001b[0m\u001b[0;34m\u001b[0m\u001b[0m\n\u001b[0;32m-> 3727\u001b[0;31m     \u001b[0moutputs\u001b[0m \u001b[0;34m=\u001b[0m \u001b[0mself\u001b[0m\u001b[0;34m.\u001b[0m\u001b[0m_graph_fn\u001b[0m\u001b[0;34m(\u001b[0m\u001b[0;34m*\u001b[0m\u001b[0mconverted_inputs\u001b[0m\u001b[0;34m)\u001b[0m\u001b[0;34m\u001b[0m\u001b[0;34m\u001b[0m\u001b[0m\n\u001b[0m\u001b[1;32m   3728\u001b[0m \u001b[0;34m\u001b[0m\u001b[0m\n\u001b[1;32m   3729\u001b[0m     \u001b[0;31m# EagerTensor.numpy() will often make a copy to ensure memory safety.\u001b[0m\u001b[0;34m\u001b[0m\u001b[0;34m\u001b[0m\u001b[0;34m\u001b[0m\u001b[0m\n",
      "\u001b[0;32m~/anaconda3/envs/test/lib/python3.6/site-packages/tensorflow_core/python/eager/function.py\u001b[0m in \u001b[0;36m__call__\u001b[0;34m(self, *args, **kwargs)\u001b[0m\n\u001b[1;32m   1549\u001b[0m       \u001b[0mTypeError\u001b[0m\u001b[0;34m:\u001b[0m \u001b[0mFor\u001b[0m \u001b[0minvalid\u001b[0m \u001b[0mpositional\u001b[0m\u001b[0;34m/\u001b[0m\u001b[0mkeyword\u001b[0m \u001b[0margument\u001b[0m \u001b[0mcombinations\u001b[0m\u001b[0;34m.\u001b[0m\u001b[0;34m\u001b[0m\u001b[0;34m\u001b[0m\u001b[0m\n\u001b[1;32m   1550\u001b[0m     \"\"\"\n\u001b[0;32m-> 1551\u001b[0;31m     \u001b[0;32mreturn\u001b[0m \u001b[0mself\u001b[0m\u001b[0;34m.\u001b[0m\u001b[0m_call_impl\u001b[0m\u001b[0;34m(\u001b[0m\u001b[0margs\u001b[0m\u001b[0;34m,\u001b[0m \u001b[0mkwargs\u001b[0m\u001b[0;34m)\u001b[0m\u001b[0;34m\u001b[0m\u001b[0;34m\u001b[0m\u001b[0m\n\u001b[0m\u001b[1;32m   1552\u001b[0m \u001b[0;34m\u001b[0m\u001b[0m\n\u001b[1;32m   1553\u001b[0m   \u001b[0;32mdef\u001b[0m \u001b[0m_call_impl\u001b[0m\u001b[0;34m(\u001b[0m\u001b[0mself\u001b[0m\u001b[0;34m,\u001b[0m \u001b[0margs\u001b[0m\u001b[0;34m,\u001b[0m \u001b[0mkwargs\u001b[0m\u001b[0;34m,\u001b[0m \u001b[0mcancellation_manager\u001b[0m\u001b[0;34m=\u001b[0m\u001b[0;32mNone\u001b[0m\u001b[0;34m)\u001b[0m\u001b[0;34m:\u001b[0m\u001b[0;34m\u001b[0m\u001b[0;34m\u001b[0m\u001b[0m\n",
      "\u001b[0;32m~/anaconda3/envs/test/lib/python3.6/site-packages/tensorflow_core/python/eager/function.py\u001b[0m in \u001b[0;36m_call_impl\u001b[0;34m(self, args, kwargs, cancellation_manager)\u001b[0m\n\u001b[1;32m   1589\u001b[0m       raise TypeError(\"Keyword arguments {} unknown. Expected {}.\".format(\n\u001b[1;32m   1590\u001b[0m           list(kwargs.keys()), list(self._arg_keywords)))\n\u001b[0;32m-> 1591\u001b[0;31m     \u001b[0;32mreturn\u001b[0m \u001b[0mself\u001b[0m\u001b[0;34m.\u001b[0m\u001b[0m_call_flat\u001b[0m\u001b[0;34m(\u001b[0m\u001b[0margs\u001b[0m\u001b[0;34m,\u001b[0m \u001b[0mself\u001b[0m\u001b[0;34m.\u001b[0m\u001b[0mcaptured_inputs\u001b[0m\u001b[0;34m,\u001b[0m \u001b[0mcancellation_manager\u001b[0m\u001b[0;34m)\u001b[0m\u001b[0;34m\u001b[0m\u001b[0;34m\u001b[0m\u001b[0m\n\u001b[0m\u001b[1;32m   1592\u001b[0m \u001b[0;34m\u001b[0m\u001b[0m\n\u001b[1;32m   1593\u001b[0m   \u001b[0;32mdef\u001b[0m \u001b[0m_filtered_call\u001b[0m\u001b[0;34m(\u001b[0m\u001b[0mself\u001b[0m\u001b[0;34m,\u001b[0m \u001b[0margs\u001b[0m\u001b[0;34m,\u001b[0m \u001b[0mkwargs\u001b[0m\u001b[0;34m)\u001b[0m\u001b[0;34m:\u001b[0m\u001b[0;34m\u001b[0m\u001b[0;34m\u001b[0m\u001b[0m\n",
      "\u001b[0;32m~/anaconda3/envs/test/lib/python3.6/site-packages/tensorflow_core/python/eager/function.py\u001b[0m in \u001b[0;36m_call_flat\u001b[0;34m(self, args, captured_inputs, cancellation_manager)\u001b[0m\n\u001b[1;32m   1690\u001b[0m       \u001b[0;31m# No tape is watching; skip to running the function.\u001b[0m\u001b[0;34m\u001b[0m\u001b[0;34m\u001b[0m\u001b[0;34m\u001b[0m\u001b[0m\n\u001b[1;32m   1691\u001b[0m       return self._build_call_outputs(self._inference_function.call(\n\u001b[0;32m-> 1692\u001b[0;31m           ctx, args, cancellation_manager=cancellation_manager))\n\u001b[0m\u001b[1;32m   1693\u001b[0m     forward_backward = self._select_forward_and_backward_functions(\n\u001b[1;32m   1694\u001b[0m         \u001b[0margs\u001b[0m\u001b[0;34m,\u001b[0m\u001b[0;34m\u001b[0m\u001b[0;34m\u001b[0m\u001b[0m\n",
      "\u001b[0;32m~/anaconda3/envs/test/lib/python3.6/site-packages/tensorflow_core/python/eager/function.py\u001b[0m in \u001b[0;36mcall\u001b[0;34m(self, ctx, args, cancellation_manager)\u001b[0m\n\u001b[1;32m    543\u001b[0m               \u001b[0minputs\u001b[0m\u001b[0;34m=\u001b[0m\u001b[0margs\u001b[0m\u001b[0;34m,\u001b[0m\u001b[0;34m\u001b[0m\u001b[0;34m\u001b[0m\u001b[0m\n\u001b[1;32m    544\u001b[0m               \u001b[0mattrs\u001b[0m\u001b[0;34m=\u001b[0m\u001b[0;34m(\u001b[0m\u001b[0;34m\"executor_type\"\u001b[0m\u001b[0;34m,\u001b[0m \u001b[0mexecutor_type\u001b[0m\u001b[0;34m,\u001b[0m \u001b[0;34m\"config_proto\"\u001b[0m\u001b[0;34m,\u001b[0m \u001b[0mconfig\u001b[0m\u001b[0;34m)\u001b[0m\u001b[0;34m,\u001b[0m\u001b[0;34m\u001b[0m\u001b[0;34m\u001b[0m\u001b[0m\n\u001b[0;32m--> 545\u001b[0;31m               ctx=ctx)\n\u001b[0m\u001b[1;32m    546\u001b[0m         \u001b[0;32melse\u001b[0m\u001b[0;34m:\u001b[0m\u001b[0;34m\u001b[0m\u001b[0;34m\u001b[0m\u001b[0m\n\u001b[1;32m    547\u001b[0m           outputs = execute.execute_with_cancellation(\n",
      "\u001b[0;32m~/anaconda3/envs/test/lib/python3.6/site-packages/tensorflow_core/python/eager/execute.py\u001b[0m in \u001b[0;36mquick_execute\u001b[0;34m(op_name, num_outputs, inputs, attrs, ctx, name)\u001b[0m\n\u001b[1;32m     59\u001b[0m     tensors = pywrap_tensorflow.TFE_Py_Execute(ctx._handle, device_name,\n\u001b[1;32m     60\u001b[0m                                                \u001b[0mop_name\u001b[0m\u001b[0;34m,\u001b[0m \u001b[0minputs\u001b[0m\u001b[0;34m,\u001b[0m \u001b[0mattrs\u001b[0m\u001b[0;34m,\u001b[0m\u001b[0;34m\u001b[0m\u001b[0;34m\u001b[0m\u001b[0m\n\u001b[0;32m---> 61\u001b[0;31m                                                num_outputs)\n\u001b[0m\u001b[1;32m     62\u001b[0m   \u001b[0;32mexcept\u001b[0m \u001b[0mcore\u001b[0m\u001b[0;34m.\u001b[0m\u001b[0m_NotOkStatusException\u001b[0m \u001b[0;32mas\u001b[0m \u001b[0me\u001b[0m\u001b[0;34m:\u001b[0m\u001b[0;34m\u001b[0m\u001b[0;34m\u001b[0m\u001b[0m\n\u001b[1;32m     63\u001b[0m     \u001b[0;32mif\u001b[0m \u001b[0mname\u001b[0m \u001b[0;32mis\u001b[0m \u001b[0;32mnot\u001b[0m \u001b[0;32mNone\u001b[0m\u001b[0;34m:\u001b[0m\u001b[0;34m\u001b[0m\u001b[0;34m\u001b[0m\u001b[0m\n",
      "\u001b[0;31mKeyboardInterrupt\u001b[0m: "
     ]
    }
   ],
   "source": [
    "#model1 start\n",
    "Inputshape = ( len(PPG_train[0]) , len(PPG_train[0][0]) )\n",
    "LayerUnits = 128\n",
    "path = '/data1/Yan-Cheng-Hsu/CNNModel_20200505/CNN_model_20200511.h5'\n",
    "X_input = Input( Inputshape )\n",
    "X_CNN = Conv1D( 64 , 3 , border_mode = 'same' , activation = 'relu' )( X_input )\n",
    "X_CNN = Conv1D( 128 , 3 , border_mode = 'same' , activation = 'relu' )( X_input )\n",
    "\n",
    "\n",
    "X0 = Bidirectional(GRU(LayerUnits, return_sequences=True), merge_mode='concat')(X_CNN)\n",
    "X0 = Dropout(0.2)(X0)\n",
    "X0 = Activation('relu')(X0)\n",
    "\n",
    "X = GRU(LayerUnits, return_sequences=True)(X0)\n",
    "X = Dropout(0.2)(X)\n",
    "X = Activation('relu')(X)\n",
    "\n",
    "X1 = GRU(LayerUnits, return_sequences=True)(X)\n",
    "X1 = Dropout(0.2)(X1)\n",
    "X1 = Activation('relu')(X1)\n",
    "\n",
    "#X2 = Concatenate([X, X1])\n",
    "X2 = GRU(LayerUnits, return_sequences=True)(X1)\n",
    "X2 = Dropout(0.2)(X2)\n",
    "X2 = Activation('relu')(X2)\n",
    "\n",
    "\n",
    "#X3 = Concatenate( [X2,X] )\n",
    "X3 = GRU(LayerUnits, return_sequences=True)(X2)\n",
    "X3 = Dropout(0.2)(X3)\n",
    "X3 = Activation('relu')(X3)\n",
    "\n",
    "\n",
    "X_output = Dense(2)(X3)\n",
    "\n",
    "GRUModel = Model(inputs =X_input, outputs = X_output )\n",
    "# Compiling\n",
    "#GRUModel = multi_gpu_model( GRUModel , gpus = 4 )\n",
    "GRUModel.compile(optimizer = 'adam', loss = rmse_loss )\n",
    "GRUModel.summary()\n",
    "\n",
    "GRUModel.fit(PPG_train, BP_train, validation_split = 0.1 , epochs = 200, batch_size = 32)"
   ]
  },
  {
   "cell_type": "code",
   "execution_count": null,
   "metadata": {},
   "outputs": [],
   "source": []
  }
 ],
 "metadata": {
  "kernelspec": {
   "display_name": "Python 3",
   "language": "python",
   "name": "python3"
  },
  "language_info": {
   "codemirror_mode": {
    "name": "ipython",
    "version": 3
   },
   "file_extension": ".py",
   "mimetype": "text/x-python",
   "name": "python",
   "nbconvert_exporter": "python",
   "pygments_lexer": "ipython3",
   "version": "3.6.10"
  }
 },
 "nbformat": 4,
 "nbformat_minor": 4
}
